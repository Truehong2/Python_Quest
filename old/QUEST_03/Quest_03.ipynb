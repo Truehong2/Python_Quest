{
  "nbformat": 4,
  "nbformat_minor": 0,
  "metadata": {
    "colab": {
      "provenance": []
    },
    "kernelspec": {
      "name": "python3",
      "display_name": "Python 3"
    },
    "language_info": {
      "name": "python"
    }
  },
  "cells": [
    {
      "cell_type": "code",
      "source": [
        "# Open the text file\n",
        "with open('/content/06TheAvengers.txt', 'r') as file:\n",
        "    text = file.read()\n",
        "\n",
        "# Convert all text to lowercase\n",
        "text = text.lower()\n",
        "\n",
        "# Remove all symbols\n",
        "symbols = ['!', '\"', '#', '$', '%', '&', \"'\", '(', ')', '*', '+', ',', '-', '.', '/', ':', ';', '<', '=', '>', '?', '@', '[', '\\\\', ']', '^', '_', '`', '{', '|', '}', '~', '\\n', '\\t']\n",
        "for symbol in symbols:\n",
        "    text = text.replace(symbol, '')\n",
        "\n",
        "# Split text into bi-gram words\n",
        "words = text.split()\n",
        "bigrams = [words[i] + ' ' + words[i+1] for i in range(len(words)-1)]\n",
        "\n",
        "# Count the frequency of each bigram\n",
        "bigram_counts = {}\n",
        "for bigram in bigrams:\n",
        "    if bigram in bigram_counts:\n",
        "        bigram_counts[bigram] += 1\n",
        "    else:\n",
        "        bigram_counts[bigram] = 1\n",
        "\n",
        "# Find the most frequent bigram\n",
        "most_frequent_bigram = max(bigram_counts, key=bigram_counts.get)\n",
        "most_frequent_count = bigram_counts[most_frequent_bigram]\n",
        "\n",
        "# Print the most frequent bigram and its count\n",
        "print(f\"The most frequent pair of bigrams is '{most_frequent_bigram}' with a count of {most_frequent_count}.\")\n"
      ],
      "metadata": {
        "colab": {
          "base_uri": "https://localhost:8080/"
        },
        "id": "2-duEMUSkgIA",
        "outputId": "386230b0-238b-4cde-bb71-ea48cd9cc1a4"
      },
      "execution_count": 9,
      "outputs": [
        {
          "output_type": "stream",
          "name": "stdout",
          "text": [
            "The most frequent pair of bigrams is 'on the' with a count of 25.\n"
          ]
        }
      ]
    }
  ]
}