{
  "nbformat": 4,
  "nbformat_minor": 0,
  "metadata": {
    "colab": {
      "provenance": [],
      "authorship_tag": "ABX9TyPym76WgZT9UgU3gads5Dyj",
      "include_colab_link": true
    },
    "kernelspec": {
      "name": "python3",
      "display_name": "Python 3"
    },
    "language_info": {
      "name": "python"
    }
  },
  "cells": [
    {
      "cell_type": "markdown",
      "metadata": {
        "id": "view-in-github",
        "colab_type": "text"
      },
      "source": [
        "<a href=\"https://colab.research.google.com/github/kiseijuuzzz/Python_Quest/blob/main/Quest04.ipynb\" target=\"_parent\"><img src=\"https://colab.research.google.com/assets/colab-badge.svg\" alt=\"Open In Colab\"/></a>"
      ]
    },
    {
      "cell_type": "code",
      "source": [
        "# 물고기 클래스 만들기\n",
        "\n",
        "class Fish:\n",
        "    def __init__(self, name, speed):\n",
        "        self.name = name\n",
        "        self.speed = speed\n",
        "\n",
        "    def swim(self):\n",
        "        return f\"{self.name} is swimming at {self.speed} m/s\"\n",
        "\n",
        "def fmg(fish_list):\n",
        "    for fish in fish_list:\n",
        "        yield fish.swim()\n",
        "\n",
        "# 물고기 객체의 이름과 속도를 가진 리스트 만들기\n",
        "\n",
        "fish_list = [Fish(\"Nemo\", 3), Fish(\"Dory\", 5), Fish(\"Marlin\", 7), Fish(\"Bubbles\", 2), Fish(\"Gill\", 4)]\n",
        "\n",
        "# 제너레이터를 활용하여 물고기들의 움직임 출력\n",
        "\n",
        "print(\"물고기들의 움직임 (Using generator):\")\n",
        "fish_generator = fmg(fish_list)\n",
        "for movement in fish_generator:\n",
        "    print(movement)\n",
        "\n",
        "\n",
        "# 컴프리헨션을 활용하여 물고기들의 움직임 출력\n",
        "\n",
        "print(\"\\n물고기들의 움직임 (Using list comprehension):\")\n",
        "fish_movements = [fish.swim() for fish in fish_list]\n",
        "for movement in fish_movements:\n",
        "    print(movement)\n"
      ],
      "metadata": {
        "colab": {
          "base_uri": "https://localhost:8080/"
        },
        "id": "QWDERsTJpDNY",
        "outputId": "ceb6ca29-36d9-4176-e395-bc980c370e70"
      },
      "execution_count": null,
      "outputs": [
        {
          "output_type": "stream",
          "name": "stdout",
          "text": [
            "물고기들의 움직임 (Using generator):\n",
            "Nemo is swimming at 3 m/s\n",
            "Dory is swimming at 5 m/s\n",
            "Marlin is swimming at 7 m/s\n",
            "Bubbles is swimming at 2 m/s\n",
            "Gill is swimming at 4 m/s\n",
            "\n",
            "물고기들의 움직임 (Using list comprehension):\n",
            "Nemo is swimming at 3 m/s\n",
            "Dory is swimming at 5 m/s\n",
            "Marlin is swimming at 7 m/s\n",
            "Bubbles is swimming at 2 m/s\n",
            "Gill is swimming at 4 m/s\n"
          ]
        }
      ]
    }
  ]
}